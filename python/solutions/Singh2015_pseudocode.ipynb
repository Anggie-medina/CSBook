{
 "cells": [
  {
   "cell_type": "markdown",
   "metadata": {},
   "source": [
    "# Solution of Singh *et al.* 2015"
   ]
  },
  {
   "cell_type": "markdown",
   "metadata": {},
   "source": [
    "## Task: Compute the mean `RecombinantFraction` for each Drosophila `Line` and `InfectionStatus`. Print the results like:\n",
    "\n",
    "```Line 45 Average Recombination Rate:\n",
    "W :  0.187\n",
    "I :  0.191\n",
    "```"
   ]
  },
  {
   "cell_type": "markdown",
   "metadata": {},
   "source": [
    "idea: order of genetic lines doesn't matter -> dictionary;  \n",
    "    for each line, another dictionary that has `InfectionStatus` as key and list with `RecombinantFraction` as values  \n",
    "    i.e., my_data = {Line:{W:[], I:[]}}  \n",
    "    when data structure in place, loop through infection status within genetic line to calculate mean"
   ]
  },
  {
   "cell_type": "markdown",
   "metadata": {},
   "source": [
    "```load library\n",
    "set up outer, empty dictionary my_data\n",
    "open file for reading\n",
    "     set up dictionary reader\n",
    "     for each row\n",
    "         my_line = Line of that row\n",
    "         my_status = Infextion status of that row\n",
    "         my_recomb = RecombinantFraction of that row\n",
    "         if my_line not in my_data\n",
    "            create new entry in outer dictionary (my_data) with inner dictionary that has one list per infection status {W: [ ], I: [ ]}\n",
    "         append Recombinant Fraction to correct list```\n",
    "\n",
    "```for each genetic line\n",
    "    print \"Line\", line, \"Average Recombination Rate:\"\n",
    "    create subset of one genetic line\n",
    "           for each status [W, I]\n",
    "               print status (set end to space to prevent line break)\n",
    "               calculate sum of RecombinantFractions\n",
    "               determine number of RecombinantFractions\n",
    "               calculate mean by dividing sum by number of entries\n",
    "               print result```"
   ]
  },
  {
   "cell_type": "code",
   "execution_count": 1,
   "metadata": {
    "collapsed": true
   },
   "outputs": [],
   "source": []
  }
 ],
 "metadata": {
  "kernelspec": {
   "display_name": "Python 3",
   "language": "python",
   "name": "python3"
  },
  "language_info": {
   "codemirror_mode": {
    "name": "ipython",
    "version": 3
   },
   "file_extension": ".py",
   "mimetype": "text/x-python",
   "name": "python",
   "nbconvert_exporter": "python",
   "pygments_lexer": "ipython3",
   "version": "3.6.3"
  }
 },
 "nbformat": 4,
 "nbformat_minor": 1
}
