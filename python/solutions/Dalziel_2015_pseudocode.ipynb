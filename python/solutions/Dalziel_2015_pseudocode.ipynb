{
 "cells": [
  {
   "cell_type": "markdown",
   "metadata": {},
   "source": [
    "# Pseudocode for Dalziel *et al.* 2015"
   ]
  },
  {
   "cell_type": "markdown",
   "metadata": {},
   "source": [
    "## Task: Write a program that extracts the names of all the cities in the database (one city per entry)"
   ]
  },
  {
   "cell_type": "markdown",
   "metadata": {},
   "source": [
    "idea:  data should have no duplicated values -> set  \n",
    "        cities = set([])"
   ]
  },
  {
   "cell_type": "markdown",
   "metadata": {},
   "source": [
    "```load csv library  \n",
    "initiate set to capture results (cities)  \n",
    "open data file for reading  \n",
    "set up dictionary reader  \n",
    "    for each line in data  \n",
    "        add location of that line to results (cities)```"
   ]
  },
  {
   "cell_type": "code",
   "execution_count": null,
   "metadata": {},
   "outputs": [],
   "source": []
  },
  {
   "cell_type": "markdown",
   "metadata": {},
   "source": [
    "## Task: Write a program that creates a dictionary where the keys are the cities, and the values are the number of records (rows) for that city in the data."
   ]
  },
  {
   "cell_type": "markdown",
   "metadata": {},
   "source": [
    "idea: use dictionary that has cities as keys and number of occurance as value  \n",
    "citycount = {city: count}"
   ]
  },
  {
   "cell_type": "markdown",
   "metadata": {},
   "source": [
    "```set up dictionary to capture results (citycount)  \n",
    "import csv library  \n",
    "open file for reading  \n",
    "     set up dictionary reader  \n",
    "     for each line in data  \n",
    "         my_city = location of that line  \n",
    "         use get method to check if key (my_city) is already present and set up key with zero count value if necessary  \n",
    "         add one to counts```"
   ]
  },
  {
   "cell_type": "code",
   "execution_count": null,
   "metadata": {},
   "outputs": [],
   "source": []
  },
  {
   "cell_type": "markdown",
   "metadata": {},
   "source": [
    "## Task: Write a program that calculates the mean population for each city, obtained by averaging the value of `pop`."
   ]
  },
  {
   "cell_type": "markdown",
   "metadata": {},
   "source": [
    "idea: use dictionary for each city; each city has inner list to also track popualtion size;  \n",
    "accumulative population size and number of occurances used to calculate average population size  \n",
    "citypop = {city: [population, count]}\n"
   ]
  },
  {
   "cell_type": "markdown",
   "metadata": {},
   "source": [
    "```set up dictionary to capture results (citypop)  \n",
    "import csv library  \n",
    "open file for reading  \n",
    "     set up dictionary reader  \n",
    "     for each line in data  \n",
    "         my_city = location of that line  \n",
    "         pop = population of that line  \n",
    "         use get method to check if key is already present and set up non-existing key with list that has zero count and zero population value  \n",
    "         increase count by one  \n",
    "         add population (accumulative total population)```\n",
    "\n",
    "```for each key in citypop dicitonary  \n",
    "    divide city accumulative population by count and assign to city population```"
   ]
  },
  {
   "cell_type": "code",
   "execution_count": null,
   "metadata": {},
   "outputs": [],
   "source": []
  },
  {
   "cell_type": "markdown",
   "metadata": {},
   "source": [
    "## Task: Write a program that calculates the mean population for each city and year."
   ]
  },
  {
   "cell_type": "markdown",
   "metadata": {},
   "source": [
    "idea: similar to previous task but use a dictionary with city as key;  \n",
    "as value use another dictionary that tracks years as keys;  \n",
    "inner dictionary uses list as values;  \n",
    "the list in inner dictionary stores accumulated population and number of records for year and city\n",
    "cityyear = {city: {year: [population, count occurances of year]}}  "
   ]
  },
  {
   "cell_type": "markdown",
   "metadata": {},
   "source": [
    "```set up dictionary cityyear  \n",
    "import csv library  \n",
    "open data file reading  \n",
    "     set up dictionary reader  \n",
    "     for each line in data  \n",
    "         mycity = city of that line  \n",
    "         year = year of that line  \n",
    "         pop = population of that line  \n",
    "         use method get to check if city is in cityyear, initiate empty dicitonary if necessary  \n",
    "         use method get to check if year is within inner dictionary of mycity, initiate list [0,0] if necessary  \n",
    "         accululate population  \n",
    "         add one to count of occurance``` \n",
    "\n",
    "```for each key within cityyear  \n",
    "    for each key within city of cityyear  \n",
    "        divide accumulative population count by number of occurances and assign to population```"
   ]
  },
  {
   "cell_type": "code",
   "execution_count": null,
   "metadata": {},
   "outputs": [],
   "source": []
  }
 ],
 "metadata": {
  "kernelspec": {
   "display_name": "Python 3",
   "language": "python",
   "name": "python3"
  },
  "language_info": {
   "codemirror_mode": {
    "name": "ipython",
    "version": 3
   },
   "file_extension": ".py",
   "mimetype": "text/x-python",
   "name": "python",
   "nbconvert_exporter": "python",
   "pygments_lexer": "ipython3",
   "version": "3.6.3"
  }
 },
 "nbformat": 4,
 "nbformat_minor": 1
}
